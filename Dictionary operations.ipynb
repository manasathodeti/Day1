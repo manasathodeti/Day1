{
 "cells": [
  {
   "cell_type": "code",
   "execution_count": null,
   "id": "c800da39-e7f1-4b3a-9bfa-f801c3270585",
   "metadata": {},
   "outputs": [],
   "source": [
    "#dictionary operations\n",
    "person={'name':'Manasa','age':'20','city':'vijayawada'}\n",
    "print(person)\n",
    "print(\"accessing and modify the person age:\")\n",
    "person[\"age\"]=19\n",
    "print(person)\n",
    "print(\"adding and removing items\")\n",
    "person['email']='manasathodeti229@gmail.com'\n",
    "print(person)\n",
    "del person['city']\n",
    "print(person)\n",
    "print(\"All keys and values\")\n",
    "print(person.keys())\n",
    "print(person.values())\n",
    "print(person.items())\n",
    "print(person.get(\"age\"))"
   ]
  }
 ],
 "metadata": {
  "kernelspec": {
   "display_name": "Python 3 (ipykernel)",
   "language": "python",
   "name": "python3"
  },
  "language_info": {
   "codemirror_mode": {
    "name": "ipython",
    "version": 3
   },
   "file_extension": ".py",
   "mimetype": "text/x-python",
   "name": "python",
   "nbconvert_exporter": "python",
   "pygments_lexer": "ipython3",
   "version": "3.12.7"
  }
 },
 "nbformat": 4,
 "nbformat_minor": 5
}
