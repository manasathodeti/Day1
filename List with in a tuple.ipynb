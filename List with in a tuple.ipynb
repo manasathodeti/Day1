{
 "cells": [
  {
   "cell_type": "code",
   "execution_count": null,
   "id": "83856ac7-5d98-40d2-80de-1bad4433eb2d",
   "metadata": {},
   "outputs": [],
   "source": [
    "#list with in a tuple\n",
    "student=(\"Manasa\",[99,98,97],['Math','science','English'])\n",
    "print(student[0])\n",
    "print(student[2][1])\n"
   ]
  }
 ],
 "metadata": {
  "kernelspec": {
   "display_name": "Python 3 (ipykernel)",
   "language": "python",
   "name": "python3"
  },
  "language_info": {
   "codemirror_mode": {
    "name": "ipython",
    "version": 3
   },
   "file_extension": ".py",
   "mimetype": "text/x-python",
   "name": "python",
   "nbconvert_exporter": "python",
   "pygments_lexer": "ipython3",
   "version": "3.12.7"
  }
 },
 "nbformat": 4,
 "nbformat_minor": 5
}
