{
 "cells": [
  {
   "cell_type": "code",
   "execution_count": null,
   "id": "be1e4d21-55c1-4fa0-a120-9f1ee32001b7",
   "metadata": {},
   "outputs": [],
   "source": [
    "#nested tuple\n",
    "nest=((1,2),(3,4),(5,6))\n",
    "print(nest[0])"
   ]
  }
 ],
 "metadata": {
  "kernelspec": {
   "display_name": "Python 3 (ipykernel)",
   "language": "python",
   "name": "python3"
  },
  "language_info": {
   "codemirror_mode": {
    "name": "ipython",
    "version": 3
   },
   "file_extension": ".py",
   "mimetype": "text/x-python",
   "name": "python",
   "nbconvert_exporter": "python",
   "pygments_lexer": "ipython3",
   "version": "3.12.7"
  }
 },
 "nbformat": 4,
 "nbformat_minor": 5
}
