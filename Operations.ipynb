{
 "cells": [
  {
   "cell_type": "code",
   "execution_count": null,
   "id": "a288c126-0f7d-4204-aa7b-6f38fa5af877",
   "metadata": {},
   "outputs": [],
   "source": [
    "#operations\n",
    "print(\"union\")\n",
    "a={1,2,3}\n",
    "b={3,4,5}\n",
    "print(a.union(b))\n",
    "print(\"Intersection\")\n",
    "print(a.intersection(b))\n",
    "print(\"Difference\")\n",
    "print(a.difference(b))\n",
    "print(\"SymmetricDifference\")\n",
    "print(a.symmetric_difference(b))"
   ]
  }
 ],
 "metadata": {
  "kernelspec": {
   "display_name": "Python 3 (ipykernel)",
   "language": "python",
   "name": "python3"
  },
  "language_info": {
   "codemirror_mode": {
    "name": "ipython",
    "version": 3
   },
   "file_extension": ".py",
   "mimetype": "text/x-python",
   "name": "python",
   "nbconvert_exporter": "python",
   "pygments_lexer": "ipython3",
   "version": "3.12.7"
  }
 },
 "nbformat": 4,
 "nbformat_minor": 5
}
