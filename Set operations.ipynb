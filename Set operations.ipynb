{
 "cells": [
  {
   "cell_type": "code",
   "execution_count": null,
   "id": "ec694d07-a81d-4fa7-9e09-6f01f768b309",
   "metadata": {},
   "outputs": [],
   "source": [
    "#set operations set_1\n",
    "my_set={1,2,3,4,5,6}\n",
    "print(my_set)\n",
    "print(\"Add and remove values\")\n",
    "my_set.add(7)\n",
    "print(my_set)\n",
    "my_set.remove(2)\n",
    "print(my_set)\n",
    "my_set.discard(5)\n",
    "print(my_set)\n",
    "print(\"Membership check\")\n",
    "print(1 in my_set)\n",
    "print(10 in my_set)"
   ]
  }
 ],
 "metadata": {
  "kernelspec": {
   "display_name": "Python 3 (ipykernel)",
   "language": "python",
   "name": "python3"
  },
  "language_info": {
   "codemirror_mode": {
    "name": "ipython",
    "version": 3
   },
   "file_extension": ".py",
   "mimetype": "text/x-python",
   "name": "python",
   "nbconvert_exporter": "python",
   "pygments_lexer": "ipython3",
   "version": "3.12.7"
  }
 },
 "nbformat": 4,
 "nbformat_minor": 5
}
