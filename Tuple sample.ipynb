{
 "cells": [
  {
   "cell_type": "code",
   "execution_count": null,
   "id": "61641d32-ab27-4730-a018-bc1722f03423",
   "metadata": {},
   "outputs": [],
   "source": [
    "#tuple sample\n",
    "info=(\"Manasa\",21,'34')\n",
    "print(info[-1])\n",
    "print(len(info))\n",
    "print(info*2)\n",
    "print(info+('asanam',6))\n",
    "print(info+(2,3))"
   ]
  }
 ],
 "metadata": {
  "kernelspec": {
   "display_name": "Python 3 (ipykernel)",
   "language": "python",
   "name": "python3"
  },
  "language_info": {
   "codemirror_mode": {
    "name": "ipython",
    "version": 3
   },
   "file_extension": ".py",
   "mimetype": "text/x-python",
   "name": "python",
   "nbconvert_exporter": "python",
   "pygments_lexer": "ipython3",
   "version": "3.12.7"
  }
 },
 "nbformat": 4,
 "nbformat_minor": 5
}
